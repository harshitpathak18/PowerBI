{
 "cells": [
  {
   "cell_type": "code",
   "execution_count": 1,
   "metadata": {},
   "outputs": [],
   "source": [
    "# importing libraries\n",
    "import pandas as pd\n",
    "import numpy as np\n",
    "import matplotlib.pyplot as plt\n",
    "import seaborn as sns"
   ]
  },
  {
   "cell_type": "code",
   "execution_count": 2,
   "metadata": {},
   "outputs": [],
   "source": [
    "# loading dataset\n",
    "df=pd.read_csv('Datasets/crop_production.csv')"
   ]
  },
  {
   "cell_type": "code",
   "execution_count": 3,
   "metadata": {},
   "outputs": [
    {
     "data": {
      "text/html": [
       "<div>\n",
       "<style scoped>\n",
       "    .dataframe tbody tr th:only-of-type {\n",
       "        vertical-align: middle;\n",
       "    }\n",
       "\n",
       "    .dataframe tbody tr th {\n",
       "        vertical-align: top;\n",
       "    }\n",
       "\n",
       "    .dataframe thead th {\n",
       "        text-align: right;\n",
       "    }\n",
       "</style>\n",
       "<table border=\"1\" class=\"dataframe\">\n",
       "  <thead>\n",
       "    <tr style=\"text-align: right;\">\n",
       "      <th></th>\n",
       "      <th>State_Name</th>\n",
       "      <th>District_Name</th>\n",
       "      <th>Crop_Year</th>\n",
       "      <th>Season</th>\n",
       "      <th>Crop</th>\n",
       "      <th>Area</th>\n",
       "      <th>Production</th>\n",
       "    </tr>\n",
       "  </thead>\n",
       "  <tbody>\n",
       "    <tr>\n",
       "      <th>0</th>\n",
       "      <td>Andaman and Nicobar Islands</td>\n",
       "      <td>NICOBARS</td>\n",
       "      <td>2000</td>\n",
       "      <td>Kharif</td>\n",
       "      <td>Arecanut</td>\n",
       "      <td>1254.0</td>\n",
       "      <td>2000.0</td>\n",
       "    </tr>\n",
       "    <tr>\n",
       "      <th>1</th>\n",
       "      <td>Andaman and Nicobar Islands</td>\n",
       "      <td>NICOBARS</td>\n",
       "      <td>2000</td>\n",
       "      <td>Kharif</td>\n",
       "      <td>Other Kharif pulses</td>\n",
       "      <td>2.0</td>\n",
       "      <td>1.0</td>\n",
       "    </tr>\n",
       "    <tr>\n",
       "      <th>2</th>\n",
       "      <td>Andaman and Nicobar Islands</td>\n",
       "      <td>NICOBARS</td>\n",
       "      <td>2000</td>\n",
       "      <td>Kharif</td>\n",
       "      <td>Rice</td>\n",
       "      <td>102.0</td>\n",
       "      <td>321.0</td>\n",
       "    </tr>\n",
       "    <tr>\n",
       "      <th>3</th>\n",
       "      <td>Andaman and Nicobar Islands</td>\n",
       "      <td>NICOBARS</td>\n",
       "      <td>2000</td>\n",
       "      <td>Whole Year</td>\n",
       "      <td>Banana</td>\n",
       "      <td>176.0</td>\n",
       "      <td>641.0</td>\n",
       "    </tr>\n",
       "    <tr>\n",
       "      <th>4</th>\n",
       "      <td>Andaman and Nicobar Islands</td>\n",
       "      <td>NICOBARS</td>\n",
       "      <td>2000</td>\n",
       "      <td>Whole Year</td>\n",
       "      <td>Cashewnut</td>\n",
       "      <td>720.0</td>\n",
       "      <td>165.0</td>\n",
       "    </tr>\n",
       "    <tr>\n",
       "      <th>...</th>\n",
       "      <td>...</td>\n",
       "      <td>...</td>\n",
       "      <td>...</td>\n",
       "      <td>...</td>\n",
       "      <td>...</td>\n",
       "      <td>...</td>\n",
       "      <td>...</td>\n",
       "    </tr>\n",
       "    <tr>\n",
       "      <th>246086</th>\n",
       "      <td>West Bengal</td>\n",
       "      <td>PURULIA</td>\n",
       "      <td>2014</td>\n",
       "      <td>Summer</td>\n",
       "      <td>Rice</td>\n",
       "      <td>306.0</td>\n",
       "      <td>801.0</td>\n",
       "    </tr>\n",
       "    <tr>\n",
       "      <th>246087</th>\n",
       "      <td>West Bengal</td>\n",
       "      <td>PURULIA</td>\n",
       "      <td>2014</td>\n",
       "      <td>Summer</td>\n",
       "      <td>Sesamum</td>\n",
       "      <td>627.0</td>\n",
       "      <td>463.0</td>\n",
       "    </tr>\n",
       "    <tr>\n",
       "      <th>246088</th>\n",
       "      <td>West Bengal</td>\n",
       "      <td>PURULIA</td>\n",
       "      <td>2014</td>\n",
       "      <td>Whole Year</td>\n",
       "      <td>Sugarcane</td>\n",
       "      <td>324.0</td>\n",
       "      <td>16250.0</td>\n",
       "    </tr>\n",
       "    <tr>\n",
       "      <th>246089</th>\n",
       "      <td>West Bengal</td>\n",
       "      <td>PURULIA</td>\n",
       "      <td>2014</td>\n",
       "      <td>Winter</td>\n",
       "      <td>Rice</td>\n",
       "      <td>279151.0</td>\n",
       "      <td>597899.0</td>\n",
       "    </tr>\n",
       "    <tr>\n",
       "      <th>246090</th>\n",
       "      <td>West Bengal</td>\n",
       "      <td>PURULIA</td>\n",
       "      <td>2014</td>\n",
       "      <td>Winter</td>\n",
       "      <td>Sesamum</td>\n",
       "      <td>175.0</td>\n",
       "      <td>88.0</td>\n",
       "    </tr>\n",
       "  </tbody>\n",
       "</table>\n",
       "<p>246091 rows × 7 columns</p>\n",
       "</div>"
      ],
      "text/plain": [
       "                         State_Name District_Name  Crop_Year       Season  \\\n",
       "0       Andaman and Nicobar Islands      NICOBARS       2000  Kharif        \n",
       "1       Andaman and Nicobar Islands      NICOBARS       2000  Kharif        \n",
       "2       Andaman and Nicobar Islands      NICOBARS       2000  Kharif        \n",
       "3       Andaman and Nicobar Islands      NICOBARS       2000  Whole Year    \n",
       "4       Andaman and Nicobar Islands      NICOBARS       2000  Whole Year    \n",
       "...                             ...           ...        ...          ...   \n",
       "246086                  West Bengal       PURULIA       2014  Summer        \n",
       "246087                  West Bengal       PURULIA       2014  Summer        \n",
       "246088                  West Bengal       PURULIA       2014  Whole Year    \n",
       "246089                  West Bengal       PURULIA       2014  Winter        \n",
       "246090                  West Bengal       PURULIA       2014  Winter        \n",
       "\n",
       "                       Crop      Area  Production  \n",
       "0                  Arecanut    1254.0      2000.0  \n",
       "1       Other Kharif pulses       2.0         1.0  \n",
       "2                      Rice     102.0       321.0  \n",
       "3                    Banana     176.0       641.0  \n",
       "4                 Cashewnut     720.0       165.0  \n",
       "...                     ...       ...         ...  \n",
       "246086                 Rice     306.0       801.0  \n",
       "246087              Sesamum     627.0       463.0  \n",
       "246088            Sugarcane     324.0     16250.0  \n",
       "246089                 Rice  279151.0    597899.0  \n",
       "246090              Sesamum     175.0        88.0  \n",
       "\n",
       "[246091 rows x 7 columns]"
      ]
     },
     "execution_count": 3,
     "metadata": {},
     "output_type": "execute_result"
    }
   ],
   "source": [
    "df"
   ]
  },
  {
   "cell_type": "code",
   "execution_count": 4,
   "metadata": {},
   "outputs": [
    {
     "data": {
      "text/plain": [
       "State_Name          0\n",
       "District_Name       0\n",
       "Crop_Year           0\n",
       "Season              0\n",
       "Crop                0\n",
       "Area                0\n",
       "Production       3730\n",
       "dtype: int64"
      ]
     },
     "execution_count": 4,
     "metadata": {},
     "output_type": "execute_result"
    }
   ],
   "source": [
    "df.isnull().sum()"
   ]
  },
  {
   "cell_type": "code",
   "execution_count": 8,
   "metadata": {},
   "outputs": [
    {
     "data": {
      "text/html": [
       "<div>\n",
       "<style scoped>\n",
       "    .dataframe tbody tr th:only-of-type {\n",
       "        vertical-align: middle;\n",
       "    }\n",
       "\n",
       "    .dataframe tbody tr th {\n",
       "        vertical-align: top;\n",
       "    }\n",
       "\n",
       "    .dataframe thead th {\n",
       "        text-align: right;\n",
       "    }\n",
       "</style>\n",
       "<table border=\"1\" class=\"dataframe\">\n",
       "  <thead>\n",
       "    <tr style=\"text-align: right;\">\n",
       "      <th></th>\n",
       "      <th>State_Name</th>\n",
       "      <th>District_Name</th>\n",
       "      <th>Crop_Year</th>\n",
       "      <th>Season</th>\n",
       "      <th>Crop</th>\n",
       "      <th>Area</th>\n",
       "      <th>Production</th>\n",
       "    </tr>\n",
       "  </thead>\n",
       "  <tbody>\n",
       "    <tr>\n",
       "      <th>46</th>\n",
       "      <td>Andaman and Nicobar Islands</td>\n",
       "      <td>NICOBARS</td>\n",
       "      <td>2005</td>\n",
       "      <td>Whole Year</td>\n",
       "      <td>Arecanut</td>\n",
       "      <td>795.67</td>\n",
       "      <td>NaN</td>\n",
       "    </tr>\n",
       "    <tr>\n",
       "      <th>51</th>\n",
       "      <td>Andaman and Nicobar Islands</td>\n",
       "      <td>NICOBARS</td>\n",
       "      <td>2005</td>\n",
       "      <td>Whole Year</td>\n",
       "      <td>Dry chillies</td>\n",
       "      <td>17.00</td>\n",
       "      <td>NaN</td>\n",
       "    </tr>\n",
       "    <tr>\n",
       "      <th>623</th>\n",
       "      <td>Andhra Pradesh</td>\n",
       "      <td>ANANTAPUR</td>\n",
       "      <td>2007</td>\n",
       "      <td>Kharif</td>\n",
       "      <td>Moong(Green Gram)</td>\n",
       "      <td>1000.00</td>\n",
       "      <td>NaN</td>\n",
       "    </tr>\n",
       "    <tr>\n",
       "      <th>630</th>\n",
       "      <td>Andhra Pradesh</td>\n",
       "      <td>ANANTAPUR</td>\n",
       "      <td>2007</td>\n",
       "      <td>Rabi</td>\n",
       "      <td>Horse-gram</td>\n",
       "      <td>1000.00</td>\n",
       "      <td>NaN</td>\n",
       "    </tr>\n",
       "    <tr>\n",
       "      <th>698</th>\n",
       "      <td>Andhra Pradesh</td>\n",
       "      <td>ANANTAPUR</td>\n",
       "      <td>2009</td>\n",
       "      <td>Rabi</td>\n",
       "      <td>Rapeseed &amp;Mustard</td>\n",
       "      <td>8.00</td>\n",
       "      <td>NaN</td>\n",
       "    </tr>\n",
       "    <tr>\n",
       "      <th>...</th>\n",
       "      <td>...</td>\n",
       "      <td>...</td>\n",
       "      <td>...</td>\n",
       "      <td>...</td>\n",
       "      <td>...</td>\n",
       "      <td>...</td>\n",
       "      <td>...</td>\n",
       "    </tr>\n",
       "    <tr>\n",
       "      <th>244128</th>\n",
       "      <td>West Bengal</td>\n",
       "      <td>MEDINIPUR WEST</td>\n",
       "      <td>2010</td>\n",
       "      <td>Rabi</td>\n",
       "      <td>Peas &amp; beans (Pulses)</td>\n",
       "      <td>2.00</td>\n",
       "      <td>NaN</td>\n",
       "    </tr>\n",
       "    <tr>\n",
       "      <th>244581</th>\n",
       "      <td>West Bengal</td>\n",
       "      <td>MURSHIDABAD</td>\n",
       "      <td>2006</td>\n",
       "      <td>Kharif</td>\n",
       "      <td>Moong(Green Gram)</td>\n",
       "      <td>200.00</td>\n",
       "      <td>NaN</td>\n",
       "    </tr>\n",
       "    <tr>\n",
       "      <th>245606</th>\n",
       "      <td>West Bengal</td>\n",
       "      <td>PURULIA</td>\n",
       "      <td>2001</td>\n",
       "      <td>Rabi</td>\n",
       "      <td>Rapeseed &amp;Mustard</td>\n",
       "      <td>427.00</td>\n",
       "      <td>NaN</td>\n",
       "    </tr>\n",
       "    <tr>\n",
       "      <th>245644</th>\n",
       "      <td>West Bengal</td>\n",
       "      <td>PURULIA</td>\n",
       "      <td>2002</td>\n",
       "      <td>Rabi</td>\n",
       "      <td>Rapeseed &amp;Mustard</td>\n",
       "      <td>522.00</td>\n",
       "      <td>NaN</td>\n",
       "    </tr>\n",
       "    <tr>\n",
       "      <th>245865</th>\n",
       "      <td>West Bengal</td>\n",
       "      <td>PURULIA</td>\n",
       "      <td>2008</td>\n",
       "      <td>Rabi</td>\n",
       "      <td>Khesari</td>\n",
       "      <td>2.00</td>\n",
       "      <td>NaN</td>\n",
       "    </tr>\n",
       "  </tbody>\n",
       "</table>\n",
       "<p>3730 rows × 7 columns</p>\n",
       "</div>"
      ],
      "text/plain": [
       "                         State_Name   District_Name  Crop_Year       Season  \\\n",
       "46      Andaman and Nicobar Islands        NICOBARS       2005  Whole Year    \n",
       "51      Andaman and Nicobar Islands        NICOBARS       2005  Whole Year    \n",
       "623                  Andhra Pradesh       ANANTAPUR       2007  Kharif        \n",
       "630                  Andhra Pradesh       ANANTAPUR       2007  Rabi          \n",
       "698                  Andhra Pradesh       ANANTAPUR       2009  Rabi          \n",
       "...                             ...             ...        ...          ...   \n",
       "244128                  West Bengal  MEDINIPUR WEST       2010  Rabi          \n",
       "244581                  West Bengal     MURSHIDABAD       2006  Kharif        \n",
       "245606                  West Bengal         PURULIA       2001  Rabi          \n",
       "245644                  West Bengal         PURULIA       2002  Rabi          \n",
       "245865                  West Bengal         PURULIA       2008  Rabi          \n",
       "\n",
       "                         Crop     Area  Production  \n",
       "46                   Arecanut   795.67         NaN  \n",
       "51               Dry chillies    17.00         NaN  \n",
       "623         Moong(Green Gram)  1000.00         NaN  \n",
       "630                Horse-gram  1000.00         NaN  \n",
       "698         Rapeseed &Mustard     8.00         NaN  \n",
       "...                       ...      ...         ...  \n",
       "244128  Peas & beans (Pulses)     2.00         NaN  \n",
       "244581      Moong(Green Gram)   200.00         NaN  \n",
       "245606      Rapeseed &Mustard   427.00         NaN  \n",
       "245644      Rapeseed &Mustard   522.00         NaN  \n",
       "245865                Khesari     2.00         NaN  \n",
       "\n",
       "[3730 rows x 7 columns]"
      ]
     },
     "execution_count": 8,
     "metadata": {},
     "output_type": "execute_result"
    }
   ],
   "source": [
    "df[df['Production'].isnull()]"
   ]
  },
  {
   "cell_type": "code",
   "execution_count": 10,
   "metadata": {},
   "outputs": [
    {
     "data": {
      "text/plain": [
       "0"
      ]
     },
     "execution_count": 10,
     "metadata": {},
     "output_type": "execute_result"
    }
   ],
   "source": [
    "df.duplicated().sum()"
   ]
  },
  {
   "cell_type": "code",
   "execution_count": 12,
   "metadata": {},
   "outputs": [
    {
     "data": {
      "text/plain": [
       "12002.82086370489"
      ]
     },
     "execution_count": 12,
     "metadata": {},
     "output_type": "execute_result"
    }
   ],
   "source": [
    "df['Area'].sum()/len(df)"
   ]
  },
  {
   "cell_type": "code",
   "execution_count": 14,
   "metadata": {},
   "outputs": [
    {
     "data": {
      "text/plain": [
       "33"
      ]
     },
     "execution_count": 14,
     "metadata": {},
     "output_type": "execute_result"
    }
   ],
   "source": [
    "df['State_Name'].nunique()"
   ]
  },
  {
   "cell_type": "code",
   "execution_count": 17,
   "metadata": {},
   "outputs": [
    {
     "data": {
      "text/plain": [
       "1263640606.1999998"
      ]
     },
     "execution_count": 17,
     "metadata": {},
     "output_type": "execute_result"
    }
   ],
   "source": [
    "df[df['State_Name']=='Maharashtra']['Production'].sum()"
   ]
  },
  {
   "cell_type": "code",
   "execution_count": 18,
   "metadata": {},
   "outputs": [
    {
     "data": {
      "text/plain": [
       "2953786189.17"
      ]
     },
     "execution_count": 18,
     "metadata": {},
     "output_type": "execute_result"
    }
   ],
   "source": [
    "df['Area'].sum()"
   ]
  },
  {
   "cell_type": "code",
   "execution_count": 19,
   "metadata": {},
   "outputs": [
    {
     "data": {
      "text/plain": [
       "141176116767.38995"
      ]
     },
     "execution_count": 19,
     "metadata": {},
     "output_type": "execute_result"
    }
   ],
   "source": [
    "df['Production'].sum()"
   ]
  },
  {
   "cell_type": "code",
   "execution_count": 20,
   "metadata": {},
   "outputs": [],
   "source": [
    "df.fillna(0.0,inplace=True)"
   ]
  },
  {
   "cell_type": "code",
   "execution_count": 25,
   "metadata": {},
   "outputs": [
    {
     "data": {
      "text/html": [
       "<div>\n",
       "<style scoped>\n",
       "    .dataframe tbody tr th:only-of-type {\n",
       "        vertical-align: middle;\n",
       "    }\n",
       "\n",
       "    .dataframe tbody tr th {\n",
       "        vertical-align: top;\n",
       "    }\n",
       "\n",
       "    .dataframe thead th {\n",
       "        text-align: right;\n",
       "    }\n",
       "</style>\n",
       "<table border=\"1\" class=\"dataframe\">\n",
       "  <thead>\n",
       "    <tr style=\"text-align: right;\">\n",
       "      <th></th>\n",
       "      <th>State_Name</th>\n",
       "      <th>District_Name</th>\n",
       "      <th>Crop_Year</th>\n",
       "      <th>Season</th>\n",
       "      <th>Crop</th>\n",
       "      <th>Area</th>\n",
       "      <th>Production</th>\n",
       "    </tr>\n",
       "  </thead>\n",
       "  <tbody>\n",
       "    <tr>\n",
       "      <th>0</th>\n",
       "      <td>Andaman and Nicobar Islands</td>\n",
       "      <td>NICOBARS</td>\n",
       "      <td>2000</td>\n",
       "      <td>Kharif</td>\n",
       "      <td>Arecanut</td>\n",
       "      <td>1254.0</td>\n",
       "      <td>2000.0</td>\n",
       "    </tr>\n",
       "    <tr>\n",
       "      <th>1</th>\n",
       "      <td>Andaman and Nicobar Islands</td>\n",
       "      <td>NICOBARS</td>\n",
       "      <td>2000</td>\n",
       "      <td>Kharif</td>\n",
       "      <td>Other Kharif pulses</td>\n",
       "      <td>2.0</td>\n",
       "      <td>1.0</td>\n",
       "    </tr>\n",
       "    <tr>\n",
       "      <th>2</th>\n",
       "      <td>Andaman and Nicobar Islands</td>\n",
       "      <td>NICOBARS</td>\n",
       "      <td>2000</td>\n",
       "      <td>Kharif</td>\n",
       "      <td>Rice</td>\n",
       "      <td>102.0</td>\n",
       "      <td>321.0</td>\n",
       "    </tr>\n",
       "    <tr>\n",
       "      <th>3</th>\n",
       "      <td>Andaman and Nicobar Islands</td>\n",
       "      <td>NICOBARS</td>\n",
       "      <td>2000</td>\n",
       "      <td>Whole Year</td>\n",
       "      <td>Banana</td>\n",
       "      <td>176.0</td>\n",
       "      <td>641.0</td>\n",
       "    </tr>\n",
       "    <tr>\n",
       "      <th>4</th>\n",
       "      <td>Andaman and Nicobar Islands</td>\n",
       "      <td>NICOBARS</td>\n",
       "      <td>2000</td>\n",
       "      <td>Whole Year</td>\n",
       "      <td>Cashewnut</td>\n",
       "      <td>720.0</td>\n",
       "      <td>165.0</td>\n",
       "    </tr>\n",
       "    <tr>\n",
       "      <th>...</th>\n",
       "      <td>...</td>\n",
       "      <td>...</td>\n",
       "      <td>...</td>\n",
       "      <td>...</td>\n",
       "      <td>...</td>\n",
       "      <td>...</td>\n",
       "      <td>...</td>\n",
       "    </tr>\n",
       "    <tr>\n",
       "      <th>246086</th>\n",
       "      <td>West Bengal</td>\n",
       "      <td>PURULIA</td>\n",
       "      <td>2014</td>\n",
       "      <td>Summer</td>\n",
       "      <td>Rice</td>\n",
       "      <td>306.0</td>\n",
       "      <td>801.0</td>\n",
       "    </tr>\n",
       "    <tr>\n",
       "      <th>246087</th>\n",
       "      <td>West Bengal</td>\n",
       "      <td>PURULIA</td>\n",
       "      <td>2014</td>\n",
       "      <td>Summer</td>\n",
       "      <td>Sesamum</td>\n",
       "      <td>627.0</td>\n",
       "      <td>463.0</td>\n",
       "    </tr>\n",
       "    <tr>\n",
       "      <th>246088</th>\n",
       "      <td>West Bengal</td>\n",
       "      <td>PURULIA</td>\n",
       "      <td>2014</td>\n",
       "      <td>Whole Year</td>\n",
       "      <td>Sugarcane</td>\n",
       "      <td>324.0</td>\n",
       "      <td>16250.0</td>\n",
       "    </tr>\n",
       "    <tr>\n",
       "      <th>246089</th>\n",
       "      <td>West Bengal</td>\n",
       "      <td>PURULIA</td>\n",
       "      <td>2014</td>\n",
       "      <td>Winter</td>\n",
       "      <td>Rice</td>\n",
       "      <td>279151.0</td>\n",
       "      <td>597899.0</td>\n",
       "    </tr>\n",
       "    <tr>\n",
       "      <th>246090</th>\n",
       "      <td>West Bengal</td>\n",
       "      <td>PURULIA</td>\n",
       "      <td>2014</td>\n",
       "      <td>Winter</td>\n",
       "      <td>Sesamum</td>\n",
       "      <td>175.0</td>\n",
       "      <td>88.0</td>\n",
       "    </tr>\n",
       "  </tbody>\n",
       "</table>\n",
       "<p>246091 rows × 7 columns</p>\n",
       "</div>"
      ],
      "text/plain": [
       "                         State_Name District_Name  Crop_Year       Season  \\\n",
       "0       Andaman and Nicobar Islands      NICOBARS       2000  Kharif        \n",
       "1       Andaman and Nicobar Islands      NICOBARS       2000  Kharif        \n",
       "2       Andaman and Nicobar Islands      NICOBARS       2000  Kharif        \n",
       "3       Andaman and Nicobar Islands      NICOBARS       2000  Whole Year    \n",
       "4       Andaman and Nicobar Islands      NICOBARS       2000  Whole Year    \n",
       "...                             ...           ...        ...          ...   \n",
       "246086                  West Bengal       PURULIA       2014  Summer        \n",
       "246087                  West Bengal       PURULIA       2014  Summer        \n",
       "246088                  West Bengal       PURULIA       2014  Whole Year    \n",
       "246089                  West Bengal       PURULIA       2014  Winter        \n",
       "246090                  West Bengal       PURULIA       2014  Winter        \n",
       "\n",
       "                       Crop      Area  Production  \n",
       "0                  Arecanut    1254.0      2000.0  \n",
       "1       Other Kharif pulses       2.0         1.0  \n",
       "2                      Rice     102.0       321.0  \n",
       "3                    Banana     176.0       641.0  \n",
       "4                 Cashewnut     720.0       165.0  \n",
       "...                     ...       ...         ...  \n",
       "246086                 Rice     306.0       801.0  \n",
       "246087              Sesamum     627.0       463.0  \n",
       "246088            Sugarcane     324.0     16250.0  \n",
       "246089                 Rice  279151.0    597899.0  \n",
       "246090              Sesamum     175.0        88.0  \n",
       "\n",
       "[246091 rows x 7 columns]"
      ]
     },
     "execution_count": 25,
     "metadata": {},
     "output_type": "execute_result"
    }
   ],
   "source": [
    "df"
   ]
  },
  {
   "cell_type": "code",
   "execution_count": 28,
   "metadata": {},
   "outputs": [],
   "source": [
    "df['Season']=df['Season'].str.strip()"
   ]
  },
  {
   "cell_type": "code",
   "execution_count": 32,
   "metadata": {},
   "outputs": [
    {
     "data": {
      "text/plain": [
       "array([2000, 2001, 2002, 2003, 2004, 2005, 2006, 2010, 1997, 1998, 1999,\n",
       "       2007, 2008, 2009, 2011, 2012, 2013, 2014, 2015], dtype=int64)"
      ]
     },
     "execution_count": 32,
     "metadata": {},
     "output_type": "execute_result"
    }
   ],
   "source": [
    "df['Crop_Year'].unique()"
   ]
  },
  {
   "cell_type": "code",
   "execution_count": null,
   "metadata": {},
   "outputs": [],
   "source": [
    "df.to_csv('Datasets/Crop_Production_Clean.csv',index=False)"
   ]
  },
  {
   "cell_type": "code",
   "execution_count": null,
   "metadata": {},
   "outputs": [],
   "source": []
  }
 ],
 "metadata": {
  "kernelspec": {
   "display_name": "Python 3",
   "language": "python",
   "name": "python3"
  },
  "language_info": {
   "codemirror_mode": {
    "name": "ipython",
    "version": 3
   },
   "file_extension": ".py",
   "mimetype": "text/x-python",
   "name": "python",
   "nbconvert_exporter": "python",
   "pygments_lexer": "ipython3",
   "version": "3.8.5"
  }
 },
 "nbformat": 4,
 "nbformat_minor": 4
}
